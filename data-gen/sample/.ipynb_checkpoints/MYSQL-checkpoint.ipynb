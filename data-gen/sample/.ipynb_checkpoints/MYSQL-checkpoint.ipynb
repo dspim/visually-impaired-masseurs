{
 "cells": [
  {
   "cell_type": "code",
   "execution_count": 156,
   "metadata": {
    "collapsed": false
   },
   "outputs": [
    {
     "name": "stdout",
     "output_type": "stream",
     "text": [
      "((u'wid', 3, None, 255, 255, 0, False), (u'mid', 3, None, 255, 255, 0, False), (u'hid', 3, None, 255, 255, 0, False), (u'sid', 3, None, 255, 255, 0, False), (u'assigned', 3, None, 255, 255, 0, False), (u'not_assigned', 3, None, 255, 255, 0, False), (u'guest_num', 3, None, 255, 255, 0, False), (u'log_date', 10, None, 10, 10, 0, False))\n"
     ]
    }
   ],
   "source": [
    "import pymysql\n",
    "\n",
    "conn = pymysql.connect(host='ap-cdbr-azure-east-c.cloudapp.net', port=3306, user='b4aa79b2c77ddc', passwd='23d314ad', db='D4SG_VIM',charset='utf8')\n",
    "cur = conn.cursor()\n",
    "\n",
    "cur.execute(\"SELECT * FROM worklog\")\n",
    "\n",
    "print(cur.description)\n",
    "\n",
    "\n",
    "# for row in cur:\n",
    "#     print(row)\n",
    "    \n",
    "# cur.close()\n",
    "# conn.close()"
   ]
  },
  {
   "cell_type": "code",
   "execution_count": 202,
   "metadata": {
    "collapsed": false
   },
   "outputs": [
    {
     "data": {
      "text/html": [
       "<div id=\"8d258cf0-e1e5-4a95-ad5e-219411c33f7b\" style=\"height: 525; width: 100%;\" class=\"plotly-graph-div\"></div><script type=\"text/javascript\">require([\"plotly\"], function(Plotly) { window.PLOTLYENV=window.PLOTLYENV || {};window.PLOTLYENV.BASE_URL=\"https://plot.ly\";Plotly.newPlot(\"8d258cf0-e1e5-4a95-ad5e-219411c33f7b\", [{\"y\": [190], \"x\": [\"\\u8cf4\\u7d72\"], \"type\": \"bar\", \"name\": \"assigned\"}, {\"y\": [98], \"x\": [\"\\u8cf4\\u7d72\"], \"type\": \"bar\", \"name\": \"guest\"}], {\"barmode\": \"group\"}, {\"linkText\": \"Export to plot.ly\", \"showLink\": true})});</script>"
      ],
      "text/plain": [
       "<IPython.core.display.HTML object>"
      ]
     },
     "metadata": {},
     "output_type": "display_data"
    }
   ],
   "source": [
    "import pymysql\n",
    "\n",
    "\n",
    "\n",
    "import plotly\n",
    "plotly.offline.init_notebook_mode()\n",
    "from plotly.graph_objs import *\n",
    "def query(compares, targets, between):\n",
    "    \n",
    "    conn = pymysql.connect(host='ap-cdbr-azure-east-c.cloudapp.net', port=3306, user='b4aa79b2c77ddc', passwd='23d314ad', db='D4SG_VIM',charset='utf8')\n",
    "    cur = conn.cursor()\n",
    "    cur.execute(\"SELECT * FROM worklog\")\n",
    "    \n",
    "    # compares = ['assigned', 'not_assigned', 'guest']\n",
    "    # target = {\"m\":\"\",\"h\":\"\",\"s\": \"\",\"p\":\"\"}\n",
    "    # between = 'masseur'|'helper'|'shop'|'date'\n",
    "    cur.execute(\"SELECT * FROM worklog\")\n",
    "    worklogs = list(cur.fetchall())\n",
    "    cur.execute(\"SELECT * FROM masseur\")\n",
    "    masseurs = list(cur.fetchall())\n",
    "    cur.execute(\"SELECT * FROM helper\")\n",
    "    helpers = list(cur.fetchall())\n",
    "    cur.execute(\"SELECT * FROM shop\")\n",
    "    shops = list(cur.fetchall())\n",
    "    \n",
    "    # find target \n",
    "    target_masseurs = masseurs\n",
    "    target_helpers = helpers\n",
    "    target_shops = shops\n",
    "    if targets[\"m\"] != \"\":\n",
    "        target_masseurs = filter(lambda x: x[1] == targets[\"m\"].decode(\"utf-8\"), target_masseurs)\n",
    "        for i in target_masseurs:\n",
    "            worklogs = filter(lambda x: x[1] == i[0], worklogs)\n",
    "    if targets[\"h\"] != \"\":\n",
    "        target_helps = filter(lambda x: x[1] == targets[\"h\"].decode(\"utf-8\"), target_helps)\n",
    "        for i in target_helpers:\n",
    "            worklogs = filter(lambda x: x[2] == i[0], worklogs)\n",
    "    if targets[\"s\"] != \"\":\n",
    "        target_shops = filter(lambda x: x[1] == targets[\"s\"].decode(\"utf-8\"), target_shops)\n",
    "        for i in target_shops:\n",
    "            worklogs = filter(lambda x: x[3] == i[0], worklogs)\n",
    "    dic = {}\n",
    "    \n",
    "    # between condition\n",
    "    table = {\"assigned\":4, \"not_assigned\": 5, \"guest\": 6}\n",
    "    if between == \"masseur\":\n",
    "        for masseur in target_masseurs:\n",
    "            mid = masseur[0]\n",
    "            dic[masseur[1]] = {}\n",
    "            for c in compares:\n",
    "                count = reduce(lambda x, y: x + y[table[c]] if y[1] == mid else x, worklogs, 0)\n",
    "                dic[masseur[1]][c] = count\n",
    "    elif between == \"helper\":\n",
    "        for helper in target_helpers:\n",
    "            hid = helper[0]\n",
    "            dic[helper[1]] = {}\n",
    "            for c in compares:\n",
    "                count = reduce(lambda x, y: x + y[table[c]] if y[2] == hid else x, worklogs, 0)\n",
    "                dic[helper[1]][c] = count\n",
    "    elif between == \"shop\":\n",
    "        for shop in target_shops:\n",
    "            sid = shop[0]\n",
    "            dic[shop[1]] = {}\n",
    "            for c in compares:\n",
    "                count = reduce(lambda x, y: x + y[table[c]] if y[3] == sid else x, worklogs, 0)\n",
    "                dic[shop[1]][c] = count\n",
    "#     elif between == \"date\":\n",
    "#         something to do \n",
    "    # compare result and create plot\n",
    "    data = []\n",
    "    for c in compares:\n",
    "        trace = Bar(\n",
    "            x=[mname for mname in dic.keys() ],\n",
    "            y=[m[c] for m in dic.values()],\n",
    "            name = c\n",
    "        )\n",
    "        data.append(trace)\n",
    "    \n",
    "    layout = Layout(\n",
    "        barmode='group'\n",
    "    )\n",
    "    fig = Figure(data=data, layout=layout)\n",
    "    plotly.offline.iplot(fig)\n",
    "    cur.close()\n",
    "    conn.close()\n",
    "# def addBarFromData(data):\n",
    "query([\"assigned\",\"guest\"],{\"m\":\"\",\"h\":\"\",\"s\":\"\",\"p\":\"\"},\"shop\")"
   ]
  },
  {
   "cell_type": "code",
   "execution_count": null,
   "metadata": {
    "collapsed": true
   },
   "outputs": [],
   "source": []
  }
 ],
 "metadata": {
  "kernelspec": {
   "display_name": "Python 2",
   "language": "python",
   "name": "python2"
  },
  "language_info": {
   "codemirror_mode": {
    "name": "ipython",
    "version": 2
   },
   "file_extension": ".py",
   "mimetype": "text/x-python",
   "name": "python",
   "nbconvert_exporter": "python",
   "pygments_lexer": "ipython2",
   "version": "2.7.11"
  }
 },
 "nbformat": 4,
 "nbformat_minor": 0
}
