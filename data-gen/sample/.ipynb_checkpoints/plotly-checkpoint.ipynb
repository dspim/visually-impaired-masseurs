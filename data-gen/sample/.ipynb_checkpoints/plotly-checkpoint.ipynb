{
 "cells": [
  {
   "cell_type": "code",
   "execution_count": null,
   "metadata": {
    "collapsed": false
   },
   "outputs": [],
   "source": [
    "import csv\n",
    "import plotly\n",
    "plotly.offline.init_notebook_mode()\n",
    "from plotly.graph_objs import *\n",
    "def masseurAssignedNumberPlot():\n",
    "    masseurFile = open('masseur.csv', 'rb')\n",
    "    masseurs = list(csv.DictReader(masseurFile))\n",
    "    worklogFile = open('worklog.csv', 'rb')\n",
    "    worklogs = list(csv.DictReader(worklogFile))\n",
    "    dic = {}\n",
    "    for masseur in masseurs:\n",
    "        mid = masseur['mid']\n",
    "        assignedCount = reduce(lambda x, y: x + int(y['assigned']) if y['mid'] == mid else x, worklogs, 0)\n",
    "        not_assignedCount = reduce(lambda x, y: x + int(y['not_assigned']) if y['mid'] == mid else x, worklogs, 0)\n",
    "        dic[masseur['mname']] = (assignedCount, not_assignedCount)\n",
    "    assignedTrace = Bar(\n",
    "            x=[mname for mname in dic.keys() ],\n",
    "            y=[m[0] for m in dic.values()],\n",
    "            name='assigned'\n",
    "    )\n",
    "    not_assignedTrace = Bar(\n",
    "            x=[mname for mname in dic.keys() ],\n",
    "            y=[m[1] for m in dic.values()],\n",
    "            name='not_assigned'\n",
    "    )\n",
    "    data = [assignedTrace, not_assignedTrace]\n",
    "    layout = Layout(\n",
    "        barmode='stack'\n",
    "    )\n",
    "    fig = Figure(data=data, layout=layout)\n",
    "    plotly.offline.plot(fig)\n",
    "    \n",
    "\n",
    "masseurAssignedNumberPlot()"
   ]
  },
  {
   "cell_type": "code",
   "execution_count": null,
   "metadata": {
    "collapsed": true
   },
   "outputs": [],
   "source": []
  }
 ],
 "metadata": {
  "kernelspec": {
   "display_name": "Python 2",
   "language": "python",
   "name": "python2"
  },
  "language_info": {
   "codemirror_mode": {
    "name": "ipython",
    "version": 2
   },
   "file_extension": ".py",
   "mimetype": "text/x-python",
   "name": "python",
   "nbconvert_exporter": "python",
   "pygments_lexer": "ipython2",
   "version": "2.7.11"
  }
 },
 "nbformat": 4,
 "nbformat_minor": 0
}
